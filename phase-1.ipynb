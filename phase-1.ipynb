{
 "cells": [
  {
   "cell_type": "markdown",
   "id": "25040afd3a9b362a",
   "metadata": {},
   "source": [
    "# Phase 1 - Exploratory analysis\n",
    "### Authors: Karolina Skrypova(50%), Oleh Fedunchyk(50%)\n",
    "Goal: In the first phase of the project, we will perform an exploratory analysis of the data. This will help us to understand the data and its characteristics to make better decisions in the next phases of the project and create the best model for machine learning."
   ]
  },
  {
   "cell_type": "markdown",
   "id": "daec9bc0",
   "metadata": {},
   "source": [
    "## Importing libraries"
   ]
  },
  {
   "cell_type": "code",
   "execution_count": 149,
   "id": "initial_id",
   "metadata": {
    "ExecuteTime": {
     "end_time": "2024-10-03T15:16:41.935311Z",
     "start_time": "2024-10-03T15:16:41.919410Z"
    },
    "collapsed": true
   },
   "outputs": [],
   "source": [
    "import pandas as pd\n",
    "import numpy as np\n",
    "import matplotlib.pyplot as plt\n",
    "import seaborn as sns"
   ]
  },
  {
   "cell_type": "markdown",
   "id": "5029137c",
   "metadata": {},
   "source": [
    "## Loading the data"
   ]
  },
  {
   "cell_type": "code",
   "execution_count": 150,
   "id": "5875cb553b7378c7",
   "metadata": {
    "ExecuteTime": {
     "end_time": "2024-10-03T15:17:27.330523Z",
     "start_time": "2024-10-03T15:17:27.273726Z"
    }
   },
   "outputs": [],
   "source": [
    "profiles_data = pd.read_csv('dataset-120/profiles.csv', sep='\\t')\n",
    "connections_data = pd.read_csv('dataset-120/connections.csv', sep='\\t')\n",
    "devices_data = pd.read_csv('dataset-120/devices.csv', sep='\\t')"
   ]
  },
  {
   "cell_type": "markdown",
   "id": "b329a93a65f38642",
   "metadata": {},
   "source": [
    "## 1.1 Basic description of the data together with their characteristics\n",
    "### A: Analysis of data structures such as files (structures and relationships, number, types, ...), records(structures, number of records, number of attributes, types, ...)\n",
    "\n",
    "#### Dataset 1: profiles"
   ]
  },
  {
   "cell_type": "markdown",
   "id": "bf61b244",
   "metadata": {},
   "source": [
    "At the beginning we will take a look at how the data in the profiles dataset looks like. "
   ]
  },
  {
   "cell_type": "code",
   "execution_count": 151,
   "id": "a6d90fda",
   "metadata": {},
   "outputs": [
    {
     "data": {
      "text/html": [
       "<div>\n",
       "<style scoped>\n",
       "    .dataframe tbody tr th:only-of-type {\n",
       "        vertical-align: middle;\n",
       "    }\n",
       "\n",
       "    .dataframe tbody tr th {\n",
       "        vertical-align: top;\n",
       "    }\n",
       "\n",
       "    .dataframe thead th {\n",
       "        text-align: right;\n",
       "    }\n",
       "</style>\n",
       "<table border=\"1\" class=\"dataframe\">\n",
       "  <thead>\n",
       "    <tr style=\"text-align: right;\">\n",
       "      <th></th>\n",
       "      <th>registration</th>\n",
       "      <th>imei</th>\n",
       "      <th>username</th>\n",
       "      <th>ssn</th>\n",
       "      <th>user_id</th>\n",
       "      <th>name</th>\n",
       "      <th>job</th>\n",
       "      <th>address</th>\n",
       "      <th>current_location</th>\n",
       "      <th>birthdate</th>\n",
       "      <th>mail</th>\n",
       "      <th>company</th>\n",
       "    </tr>\n",
       "  </thead>\n",
       "  <tbody>\n",
       "    <tr>\n",
       "      <th>0</th>\n",
       "      <td>02 Apr 2024</td>\n",
       "      <td>8630330696303481594</td>\n",
       "      <td>regina30</td>\n",
       "      <td>719-26-3476</td>\n",
       "      <td>507</td>\n",
       "      <td>Rebecca Moreno</td>\n",
       "      <td>Librarian, public</td>\n",
       "      <td>Unit 5700 Box 8952\\r\\nDPO AP 70659</td>\n",
       "      <td>(Decimal('43.251681'), Decimal('4.085137'))</td>\n",
       "      <td>1977-03-13</td>\n",
       "      <td>cjohnson@hotmail.com</td>\n",
       "      <td>Shepard Ltd</td>\n",
       "    </tr>\n",
       "    <tr>\n",
       "      <th>1</th>\n",
       "      <td>2021-10-02</td>\n",
       "      <td>863033069630348412</td>\n",
       "      <td>ronaldhughes</td>\n",
       "      <td>500-12-7252</td>\n",
       "      <td>1158</td>\n",
       "      <td>Joshua Hicks</td>\n",
       "      <td>NaN</td>\n",
       "      <td>NaN</td>\n",
       "      <td>(Decimal('-7.708654'), Decimal('144.652216'))</td>\n",
       "      <td>1980-10-08</td>\n",
       "      <td>ggray@gmail.com</td>\n",
       "      <td>Coleman LLC</td>\n",
       "    </tr>\n",
       "    <tr>\n",
       "      <th>2</th>\n",
       "      <td>05/23/2022, 00:00:00</td>\n",
       "      <td>8630330696303482477</td>\n",
       "      <td>zwarren</td>\n",
       "      <td>073-28-3258</td>\n",
       "      <td>2379</td>\n",
       "      <td>Rebecca Hudson</td>\n",
       "      <td>NaN</td>\n",
       "      <td>4506 John Road\\r\\nMillerborough, ME 08112</td>\n",
       "      <td>(Decimal('53.531034'), Decimal('100.682080'))</td>\n",
       "      <td>NaN</td>\n",
       "      <td>eric54@yahoo.com</td>\n",
       "      <td>Hinton, Fuller and French</td>\n",
       "    </tr>\n",
       "    <tr>\n",
       "      <th>3</th>\n",
       "      <td>03/23/2023, 00:00:00</td>\n",
       "      <td>3590433799317661230</td>\n",
       "      <td>grimessamuel</td>\n",
       "      <td>006-67-1751</td>\n",
       "      <td>954</td>\n",
       "      <td>Victoria Hughes</td>\n",
       "      <td>NaN</td>\n",
       "      <td>NaN</td>\n",
       "      <td>(Decimal('-17.4220355'), Decimal('-30.820327'))</td>\n",
       "      <td>NaN</td>\n",
       "      <td>melissajohnson@gmail.com</td>\n",
       "      <td>Erickson, Robinson and Bailey</td>\n",
       "    </tr>\n",
       "    <tr>\n",
       "      <th>4</th>\n",
       "      <td>09/17/2020, 00:00:00</td>\n",
       "      <td>359043379931766437</td>\n",
       "      <td>obrown</td>\n",
       "      <td>188-07-0566</td>\n",
       "      <td>1409</td>\n",
       "      <td>Michael Petersen</td>\n",
       "      <td>NaN</td>\n",
       "      <td>94495 Smith Fork Suite 229\\r\\nChandlerberg, MD...</td>\n",
       "      <td>NaN</td>\n",
       "      <td>NaN</td>\n",
       "      <td>ryan13@yahoo.com</td>\n",
       "      <td>Murphy PLC</td>\n",
       "    </tr>\n",
       "  </tbody>\n",
       "</table>\n",
       "</div>"
      ],
      "text/plain": [
       "           registration                 imei      username          ssn  \\\n",
       "0           02 Apr 2024  8630330696303481594      regina30  719-26-3476   \n",
       "1            2021-10-02   863033069630348412  ronaldhughes  500-12-7252   \n",
       "2  05/23/2022, 00:00:00  8630330696303482477       zwarren  073-28-3258   \n",
       "3  03/23/2023, 00:00:00  3590433799317661230  grimessamuel  006-67-1751   \n",
       "4  09/17/2020, 00:00:00   359043379931766437        obrown  188-07-0566   \n",
       "\n",
       "   user_id              name                job  \\\n",
       "0      507    Rebecca Moreno  Librarian, public   \n",
       "1     1158      Joshua Hicks                NaN   \n",
       "2     2379    Rebecca Hudson                NaN   \n",
       "3      954   Victoria Hughes                NaN   \n",
       "4     1409  Michael Petersen                NaN   \n",
       "\n",
       "                                             address  \\\n",
       "0                 Unit 5700 Box 8952\\r\\nDPO AP 70659   \n",
       "1                                                NaN   \n",
       "2          4506 John Road\\r\\nMillerborough, ME 08112   \n",
       "3                                                NaN   \n",
       "4  94495 Smith Fork Suite 229\\r\\nChandlerberg, MD...   \n",
       "\n",
       "                                  current_location   birthdate  \\\n",
       "0      (Decimal('43.251681'), Decimal('4.085137'))  1977-03-13   \n",
       "1    (Decimal('-7.708654'), Decimal('144.652216'))  1980-10-08   \n",
       "2    (Decimal('53.531034'), Decimal('100.682080'))         NaN   \n",
       "3  (Decimal('-17.4220355'), Decimal('-30.820327'))         NaN   \n",
       "4                                              NaN         NaN   \n",
       "\n",
       "                       mail                        company  \n",
       "0      cjohnson@hotmail.com                    Shepard Ltd  \n",
       "1           ggray@gmail.com                    Coleman LLC  \n",
       "2          eric54@yahoo.com      Hinton, Fuller and French  \n",
       "3  melissajohnson@gmail.com  Erickson, Robinson and Bailey  \n",
       "4          ryan13@yahoo.com                     Murphy PLC  "
      ]
     },
     "execution_count": 151,
     "metadata": {},
     "output_type": "execute_result"
    }
   ],
   "source": [
    "profiles_data.head()"
   ]
  },
  {
   "cell_type": "markdown",
   "id": "f837cc37",
   "metadata": {},
   "source": [
    "This dataset contains information about users."
   ]
  },
  {
   "cell_type": "markdown",
   "id": "74535fcf",
   "metadata": {},
   "source": [
    "With a few commands we can find out more information about the dataset."
   ]
  },
  {
   "cell_type": "code",
   "execution_count": 152,
   "id": "0df30088",
   "metadata": {},
   "outputs": [
    {
     "name": "stdout",
     "output_type": "stream",
     "text": [
      "<class 'pandas.core.frame.DataFrame'>\n",
      "RangeIndex: 2535 entries, 0 to 2534\n",
      "Data columns (total 12 columns):\n",
      " #   Column            Non-Null Count  Dtype \n",
      "---  ------            --------------  ----- \n",
      " 0   registration      2535 non-null   object\n",
      " 1   imei              2535 non-null   int64 \n",
      " 2   username          2535 non-null   object\n",
      " 3   ssn               2535 non-null   object\n",
      " 4   user_id           2535 non-null   int64 \n",
      " 5   name              2535 non-null   object\n",
      " 6   job               761 non-null    object\n",
      " 7   address           2155 non-null   object\n",
      " 8   current_location  2408 non-null   object\n",
      " 9   birthdate         1394 non-null   object\n",
      " 10  mail              2535 non-null   object\n",
      " 11  company           2535 non-null   object\n",
      "dtypes: int64(2), object(10)\n",
      "memory usage: 237.8+ KB\n"
     ]
    }
   ],
   "source": [
    "profiles_data.info()"
   ]
  },
  {
   "cell_type": "markdown",
   "id": "30d3c0c9",
   "metadata": {},
   "source": [
    "Using the info() statement, we found the data types for the individual attributes. \n",
    "We also found that the dataset has 2535 rows in it.\n",
    "The number of attributes for this dataset is 12.\n",
    "We can see that in this dataset 2 attributes have type int, and the rest object. \n",
    "We also found the range index, and we can see how many non-null entries there are in each attribute.\n",
    "\n",
    "**Attributes:**\n",
    "- registration - date: date of registration\n",
    "- imei - number: unique number for each mobile device\n",
    "- username - text: username\n",
    "- ssn - specific type: social security number; citizen identification number\n",
    "- user_id - number: unique number for each user\n",
    "- name - text: user name\n",
    "- job - text: occupation of the user\n",
    "- address - text: address of the user\n",
    "- current_location - text: current location of the user\n",
    "- birthdate - date: date of birth of the user\n",
    "- mail - text: user's email\n",
    "- company - text: user's company"
   ]
  },
  {
   "cell_type": "code",
   "execution_count": 153,
   "id": "06bac132",
   "metadata": {},
   "outputs": [
    {
     "data": {
      "text/html": [
       "<div>\n",
       "<style scoped>\n",
       "    .dataframe tbody tr th:only-of-type {\n",
       "        vertical-align: middle;\n",
       "    }\n",
       "\n",
       "    .dataframe tbody tr th {\n",
       "        vertical-align: top;\n",
       "    }\n",
       "\n",
       "    .dataframe thead th {\n",
       "        text-align: right;\n",
       "    }\n",
       "</style>\n",
       "<table border=\"1\" class=\"dataframe\">\n",
       "  <thead>\n",
       "    <tr style=\"text-align: right;\">\n",
       "      <th></th>\n",
       "      <th>registration</th>\n",
       "      <th>username</th>\n",
       "      <th>ssn</th>\n",
       "      <th>name</th>\n",
       "      <th>job</th>\n",
       "      <th>address</th>\n",
       "      <th>current_location</th>\n",
       "      <th>birthdate</th>\n",
       "      <th>mail</th>\n",
       "      <th>company</th>\n",
       "    </tr>\n",
       "  </thead>\n",
       "  <tbody>\n",
       "    <tr>\n",
       "      <th>count</th>\n",
       "      <td>2535</td>\n",
       "      <td>2535</td>\n",
       "      <td>2535</td>\n",
       "      <td>2535</td>\n",
       "      <td>761</td>\n",
       "      <td>2155</td>\n",
       "      <td>2408</td>\n",
       "      <td>1394</td>\n",
       "      <td>2535</td>\n",
       "      <td>2535</td>\n",
       "    </tr>\n",
       "    <tr>\n",
       "      <th>unique</th>\n",
       "      <td>2233</td>\n",
       "      <td>2489</td>\n",
       "      <td>2535</td>\n",
       "      <td>2482</td>\n",
       "      <td>445</td>\n",
       "      <td>2155</td>\n",
       "      <td>2408</td>\n",
       "      <td>1377</td>\n",
       "      <td>2525</td>\n",
       "      <td>2409</td>\n",
       "    </tr>\n",
       "    <tr>\n",
       "      <th>top</th>\n",
       "      <td>08 Nov 2020</td>\n",
       "      <td>zwhite</td>\n",
       "      <td>663-26-6444</td>\n",
       "      <td>Michael Martinez</td>\n",
       "      <td>Exhibitions officer, museum/gallery</td>\n",
       "      <td>971 Griffin Landing\\r\\nNew Patricia, CT 88011</td>\n",
       "      <td>(Decimal('59.762173'), Decimal('123.344113'))</td>\n",
       "      <td>1908-09-24</td>\n",
       "      <td>mitchelldavid@yahoo.com</td>\n",
       "      <td>Johnson Group</td>\n",
       "    </tr>\n",
       "    <tr>\n",
       "      <th>freq</th>\n",
       "      <td>5</td>\n",
       "      <td>3</td>\n",
       "      <td>1</td>\n",
       "      <td>4</td>\n",
       "      <td>6</td>\n",
       "      <td>1</td>\n",
       "      <td>1</td>\n",
       "      <td>2</td>\n",
       "      <td>2</td>\n",
       "      <td>5</td>\n",
       "    </tr>\n",
       "  </tbody>\n",
       "</table>\n",
       "</div>"
      ],
      "text/plain": [
       "       registration username          ssn              name  \\\n",
       "count          2535     2535         2535              2535   \n",
       "unique         2233     2489         2535              2482   \n",
       "top     08 Nov 2020   zwhite  663-26-6444  Michael Martinez   \n",
       "freq              5        3            1                 4   \n",
       "\n",
       "                                        job  \\\n",
       "count                                   761   \n",
       "unique                                  445   \n",
       "top     Exhibitions officer, museum/gallery   \n",
       "freq                                      6   \n",
       "\n",
       "                                              address  \\\n",
       "count                                            2155   \n",
       "unique                                           2155   \n",
       "top     971 Griffin Landing\\r\\nNew Patricia, CT 88011   \n",
       "freq                                                1   \n",
       "\n",
       "                                     current_location   birthdate  \\\n",
       "count                                            2408        1394   \n",
       "unique                                           2408        1377   \n",
       "top     (Decimal('59.762173'), Decimal('123.344113'))  1908-09-24   \n",
       "freq                                                1           2   \n",
       "\n",
       "                           mail        company  \n",
       "count                      2535           2535  \n",
       "unique                     2525           2409  \n",
       "top     mitchelldavid@yahoo.com  Johnson Group  \n",
       "freq                          2              5  "
      ]
     },
     "execution_count": 153,
     "metadata": {},
     "output_type": "execute_result"
    }
   ],
   "source": [
    "profiles_data.describe(exclude=np.number)"
   ]
  },
  {
   "cell_type": "markdown",
   "id": "c3fd516e",
   "metadata": {},
   "source": [
    "Here we did univariate analysis for individual attributes."
   ]
  },
  {
   "cell_type": "code",
   "execution_count": 154,
   "id": "fdfed6c3",
   "metadata": {},
   "outputs": [
    {
     "data": {
      "text/plain": [
       "328"
      ]
     },
     "execution_count": 154,
     "metadata": {},
     "output_type": "execute_result"
    }
   ],
   "source": [
    "profiles_data.dropna().shape[0]\n"
   ]
  },
  {
   "cell_type": "markdown",
   "id": "c3617953",
   "metadata": {},
   "source": [
    "328 rows have all attributes filled in."
   ]
  },
  {
   "cell_type": "code",
   "execution_count": 155,
   "id": "e25caf0a",
   "metadata": {},
   "outputs": [
    {
     "data": {
      "text/plain": [
       "2207"
      ]
     },
     "execution_count": 155,
     "metadata": {},
     "output_type": "execute_result"
    }
   ],
   "source": [
    "profiles_data.shape[0] - profiles_data.dropna().shape[0]"
   ]
  },
  {
   "cell_type": "markdown",
   "id": "d5d1a5dd",
   "metadata": {},
   "source": [
    "2207 rows have at least one attribute unfilled."
   ]
  },
  {
   "cell_type": "code",
   "execution_count": 156,
   "id": "56bf8bbb",
   "metadata": {},
   "outputs": [
    {
     "data": {
      "text/plain": [
       "registration        2233\n",
       "imei                 494\n",
       "username            2489\n",
       "ssn                 2535\n",
       "user_id             1578\n",
       "name                2482\n",
       "job                  445\n",
       "address             2155\n",
       "current_location    2408\n",
       "birthdate           1377\n",
       "mail                2525\n",
       "company             2409\n",
       "dtype: int64"
      ]
     },
     "execution_count": 156,
     "metadata": {},
     "output_type": "execute_result"
    }
   ],
   "source": [
    "profiles_data.nunique()"
   ]
  },
  {
   "cell_type": "markdown",
   "id": "93d35f0c",
   "metadata": {},
   "source": [
    "Nunique shows us how many unique values are in each attribute. "
   ]
  },
  {
   "cell_type": "code",
   "execution_count": 157,
   "id": "32a6268c",
   "metadata": {},
   "outputs": [
    {
     "data": {
      "text/plain": [
       "0"
      ]
     },
     "execution_count": 157,
     "metadata": {},
     "output_type": "execute_result"
    }
   ],
   "source": [
    "profiles_data.shape[0] - profiles_data.drop_duplicates().shape[0]"
   ]
  },
  {
   "cell_type": "markdown",
   "id": "154621e0",
   "metadata": {},
   "source": [
    "The number of duplicate rows is 0."
   ]
  },
  {
   "cell_type": "code",
   "execution_count": 158,
   "id": "d5d9dcd3",
   "metadata": {},
   "outputs": [
    {
     "data": {
      "text/plain": [
       "registration           0\n",
       "imei                   0\n",
       "username               0\n",
       "ssn                    0\n",
       "user_id                0\n",
       "name                   0\n",
       "job                 1774\n",
       "address              380\n",
       "current_location     127\n",
       "birthdate           1141\n",
       "mail                   0\n",
       "company                0\n",
       "dtype: int64"
      ]
     },
     "execution_count": 158,
     "metadata": {},
     "output_type": "execute_result"
    }
   ],
   "source": [
    "profiles_data.isnull().sum()"
   ]
  },
  {
   "cell_type": "markdown",
   "id": "8d61053d",
   "metadata": {},
   "source": [
    "Above is the number of null values in the individual attributes"
   ]
  },
  {
   "cell_type": "markdown",
   "id": "d098fd87",
   "metadata": {},
   "source": [
    "##### Problems with the dataset:\n",
    "- Dataset contains missing values\n",
    "- user_id is not unique for each user\n",
    "- registration is not in the correct format(each date should be in the same format)\n",
    "- some of the emails is not unique (that would be a problem because you can make different accounts with the same email)\n"
   ]
  },
  {
   "cell_type": "markdown",
   "id": "d5f81d4d",
   "metadata": {},
   "source": [
    "#### Dataset 2: connections\n",
    "At the beginning we will take a look at how the data in the connections dataset looks like. "
   ]
  },
  {
   "cell_type": "code",
   "execution_count": 159,
   "id": "963b6721",
   "metadata": {},
   "outputs": [
    {
     "data": {
      "text/html": [
       "<div>\n",
       "<style scoped>\n",
       "    .dataframe tbody tr th:only-of-type {\n",
       "        vertical-align: middle;\n",
       "    }\n",
       "\n",
       "    .dataframe tbody tr th {\n",
       "        vertical-align: top;\n",
       "    }\n",
       "\n",
       "    .dataframe thead th {\n",
       "        text-align: right;\n",
       "    }\n",
       "</style>\n",
       "<table border=\"1\" class=\"dataframe\">\n",
       "  <thead>\n",
       "    <tr style=\"text-align: right;\">\n",
       "      <th></th>\n",
       "      <th>ts</th>\n",
       "      <th>imei</th>\n",
       "      <th>mwra</th>\n",
       "      <th>c.katana</th>\n",
       "      <th>c.dogalize</th>\n",
       "      <th>c.android.gm</th>\n",
       "      <th>c.android.chrome</th>\n",
       "      <th>c.android.youtube</th>\n",
       "      <th>c.UCMobile.intl</th>\n",
       "      <th>c.updateassist</th>\n",
       "      <th>c.UCMobile.x86</th>\n",
       "      <th>c.android.vending</th>\n",
       "      <th>c.raider</th>\n",
       "    </tr>\n",
       "  </thead>\n",
       "  <tbody>\n",
       "    <tr>\n",
       "      <th>0</th>\n",
       "      <td>2018-05-05 10:00:00</td>\n",
       "      <td>3590433799317661339</td>\n",
       "      <td>1.0</td>\n",
       "      <td>12.59948</td>\n",
       "      <td>8.68233</td>\n",
       "      <td>10.47388</td>\n",
       "      <td>10.83279</td>\n",
       "      <td>9.88566</td>\n",
       "      <td>42.78450</td>\n",
       "      <td>68.04373</td>\n",
       "      <td>48.16608</td>\n",
       "      <td>29.46806</td>\n",
       "      <td>62.29823</td>\n",
       "    </tr>\n",
       "    <tr>\n",
       "      <th>1</th>\n",
       "      <td>2018-05-05 10:01:00</td>\n",
       "      <td>8630330696303481149</td>\n",
       "      <td>0.0</td>\n",
       "      <td>10.12035</td>\n",
       "      <td>13.40907</td>\n",
       "      <td>9.91671</td>\n",
       "      <td>12.68924</td>\n",
       "      <td>9.97613</td>\n",
       "      <td>41.56210</td>\n",
       "      <td>50.81831</td>\n",
       "      <td>34.35584</td>\n",
       "      <td>27.40876</td>\n",
       "      <td>58.79877</td>\n",
       "    </tr>\n",
       "    <tr>\n",
       "      <th>2</th>\n",
       "      <td>2018-05-05 10:02:00</td>\n",
       "      <td>3590433799317662295</td>\n",
       "      <td>0.0</td>\n",
       "      <td>15.37526</td>\n",
       "      <td>17.28039</td>\n",
       "      <td>17.43219</td>\n",
       "      <td>11.82565</td>\n",
       "      <td>13.14464</td>\n",
       "      <td>68.96152</td>\n",
       "      <td>42.46043</td>\n",
       "      <td>52.57066</td>\n",
       "      <td>42.52979</td>\n",
       "      <td>14.00816</td>\n",
       "    </tr>\n",
       "    <tr>\n",
       "      <th>3</th>\n",
       "      <td>2018-05-05 10:03:00</td>\n",
       "      <td>3590433799317662113</td>\n",
       "      <td>0.0</td>\n",
       "      <td>12.23041</td>\n",
       "      <td>8.08404</td>\n",
       "      <td>11.92790</td>\n",
       "      <td>12.78835</td>\n",
       "      <td>12.77756</td>\n",
       "      <td>61.50057</td>\n",
       "      <td>62.83317</td>\n",
       "      <td>43.63141</td>\n",
       "      <td>78.21635</td>\n",
       "      <td>85.93087</td>\n",
       "    </tr>\n",
       "    <tr>\n",
       "      <th>4</th>\n",
       "      <td>2018-05-05 10:04:00</td>\n",
       "      <td>359043379931766486</td>\n",
       "      <td>1.0</td>\n",
       "      <td>10.15839</td>\n",
       "      <td>8.09159</td>\n",
       "      <td>11.92699</td>\n",
       "      <td>7.43053</td>\n",
       "      <td>9.74092</td>\n",
       "      <td>61.38455</td>\n",
       "      <td>64.47625</td>\n",
       "      <td>34.24340</td>\n",
       "      <td>68.61573</td>\n",
       "      <td>3.01488</td>\n",
       "    </tr>\n",
       "  </tbody>\n",
       "</table>\n",
       "</div>"
      ],
      "text/plain": [
       "                    ts                 imei  mwra  c.katana  c.dogalize  \\\n",
       "0  2018-05-05 10:00:00  3590433799317661339   1.0  12.59948     8.68233   \n",
       "1  2018-05-05 10:01:00  8630330696303481149   0.0  10.12035    13.40907   \n",
       "2  2018-05-05 10:02:00  3590433799317662295   0.0  15.37526    17.28039   \n",
       "3  2018-05-05 10:03:00  3590433799317662113   0.0  12.23041     8.08404   \n",
       "4  2018-05-05 10:04:00   359043379931766486   1.0  10.15839     8.09159   \n",
       "\n",
       "   c.android.gm  c.android.chrome  c.android.youtube  c.UCMobile.intl  \\\n",
       "0      10.47388          10.83279            9.88566         42.78450   \n",
       "1       9.91671          12.68924            9.97613         41.56210   \n",
       "2      17.43219          11.82565           13.14464         68.96152   \n",
       "3      11.92790          12.78835           12.77756         61.50057   \n",
       "4      11.92699           7.43053            9.74092         61.38455   \n",
       "\n",
       "   c.updateassist  c.UCMobile.x86  c.android.vending  c.raider  \n",
       "0        68.04373        48.16608           29.46806  62.29823  \n",
       "1        50.81831        34.35584           27.40876  58.79877  \n",
       "2        42.46043        52.57066           42.52979  14.00816  \n",
       "3        62.83317        43.63141           78.21635  85.93087  \n",
       "4        64.47625        34.24340           68.61573   3.01488  "
      ]
     },
     "execution_count": 159,
     "metadata": {},
     "output_type": "execute_result"
    }
   ],
   "source": [
    "connections_data.head()"
   ]
  },
  {
   "cell_type": "markdown",
   "id": "4bcd63a4",
   "metadata": {},
   "source": [
    "With a few commands we can find out more information about the dataset."
   ]
  },
  {
   "cell_type": "code",
   "execution_count": 160,
   "id": "b1c6ff6d",
   "metadata": {},
   "outputs": [
    {
     "name": "stdout",
     "output_type": "stream",
     "text": [
      "<class 'pandas.core.frame.DataFrame'>\n",
      "RangeIndex: 15145 entries, 0 to 15144\n",
      "Data columns (total 13 columns):\n",
      " #   Column             Non-Null Count  Dtype  \n",
      "---  ------             --------------  -----  \n",
      " 0   ts                 15145 non-null  object \n",
      " 1   imei               15145 non-null  int64  \n",
      " 2   mwra               15145 non-null  float64\n",
      " 3   c.katana           15145 non-null  float64\n",
      " 4   c.dogalize         15145 non-null  float64\n",
      " 5   c.android.gm       15145 non-null  float64\n",
      " 6   c.android.chrome   15145 non-null  float64\n",
      " 7   c.android.youtube  15145 non-null  float64\n",
      " 8   c.UCMobile.intl    15145 non-null  float64\n",
      " 9   c.updateassist     15145 non-null  float64\n",
      " 10  c.UCMobile.x86     15145 non-null  float64\n",
      " 11  c.android.vending  15145 non-null  float64\n",
      " 12  c.raider           15145 non-null  float64\n",
      "dtypes: float64(11), int64(1), object(1)\n",
      "memory usage: 1.5+ MB\n"
     ]
    }
   ],
   "source": [
    "connections_data.info()"
   ]
  },
  {
   "cell_type": "markdown",
   "id": "7cb5e93a",
   "metadata": {},
   "source": [
    "Using the info() statement, we found the data types for the individual attributes. \n",
    "We also found that the dataset has 15145 rows in it.\n",
    "The number of attributes for this dataset is 13.\n",
    "We can see that in this dataset 11 attributes have type float, 1 attribute - type int and one attribute - type object. \n",
    "We have also found the range index, and we can see how many non-zero positions are in each attribute.\n",
    "In this dataset all rows have all attributes filled.\n",
    "\n",
    "**Attributes:**\n",
    "- ts - timestamp: date and time\n",
    "- imei - int: unique number for each mobile device\n",
    "- mwra - float: values between 0 and 1; malware activity\n",
    "- c.katana, c.dogalize, c.android.gm, c.android.chrome, c.android.youtube, c.UCMobile.intl, c.updateassist, c.UCMobile.x86, c.android.vending, c.raider - \n",
    "float: these attributes denote some activity or application that the user is using on his mobile device. Each column has a name according to the application. These values mean some metric."
   ]
  },
  {
   "cell_type": "markdown",
   "id": "00634599",
   "metadata": {},
   "source": [
    "**Univariate analysis:**"
   ]
  },
  {
   "cell_type": "markdown",
   "id": "42b6e19d",
   "metadata": {},
   "source": [
    "Continuous:"
   ]
  },
  {
   "cell_type": "code",
   "execution_count": 161,
   "id": "94a0077d",
   "metadata": {},
   "outputs": [
    {
     "data": {
      "text/html": [
       "<div>\n",
       "<style scoped>\n",
       "    .dataframe tbody tr th:only-of-type {\n",
       "        vertical-align: middle;\n",
       "    }\n",
       "\n",
       "    .dataframe tbody tr th {\n",
       "        vertical-align: top;\n",
       "    }\n",
       "\n",
       "    .dataframe thead th {\n",
       "        text-align: right;\n",
       "    }\n",
       "</style>\n",
       "<table border=\"1\" class=\"dataframe\">\n",
       "  <thead>\n",
       "    <tr style=\"text-align: right;\">\n",
       "      <th></th>\n",
       "      <th>imei</th>\n",
       "      <th>mwra</th>\n",
       "      <th>c.katana</th>\n",
       "      <th>c.dogalize</th>\n",
       "      <th>c.android.gm</th>\n",
       "      <th>c.android.chrome</th>\n",
       "      <th>c.android.youtube</th>\n",
       "      <th>c.UCMobile.intl</th>\n",
       "      <th>c.updateassist</th>\n",
       "      <th>c.UCMobile.x86</th>\n",
       "      <th>c.android.vending</th>\n",
       "      <th>c.raider</th>\n",
       "    </tr>\n",
       "  </thead>\n",
       "  <tbody>\n",
       "    <tr>\n",
       "      <th>count</th>\n",
       "      <td>1.514500e+04</td>\n",
       "      <td>15145.000000</td>\n",
       "      <td>15145.000000</td>\n",
       "      <td>15145.000000</td>\n",
       "      <td>15145.000000</td>\n",
       "      <td>15145.000000</td>\n",
       "      <td>15145.000000</td>\n",
       "      <td>15145.000000</td>\n",
       "      <td>15145.000000</td>\n",
       "      <td>15145.000000</td>\n",
       "      <td>15145.000000</td>\n",
       "      <td>15145.000000</td>\n",
       "    </tr>\n",
       "    <tr>\n",
       "      <th>mean</th>\n",
       "      <td>3.888406e+18</td>\n",
       "      <td>0.625157</td>\n",
       "      <td>12.753468</td>\n",
       "      <td>10.978112</td>\n",
       "      <td>12.170533</td>\n",
       "      <td>11.617357</td>\n",
       "      <td>11.626803</td>\n",
       "      <td>60.290531</td>\n",
       "      <td>54.567888</td>\n",
       "      <td>51.059147</td>\n",
       "      <td>49.678824</td>\n",
       "      <td>49.810844</td>\n",
       "    </tr>\n",
       "    <tr>\n",
       "      <th>std</th>\n",
       "      <td>3.334890e+18</td>\n",
       "      <td>0.484098</td>\n",
       "      <td>1.863855</td>\n",
       "      <td>2.705844</td>\n",
       "      <td>2.392459</td>\n",
       "      <td>2.500184</td>\n",
       "      <td>2.490396</td>\n",
       "      <td>11.088297</td>\n",
       "      <td>11.328329</td>\n",
       "      <td>12.209954</td>\n",
       "      <td>28.978242</td>\n",
       "      <td>28.866897</td>\n",
       "    </tr>\n",
       "    <tr>\n",
       "      <th>min</th>\n",
       "      <td>3.590434e+17</td>\n",
       "      <td>0.000000</td>\n",
       "      <td>5.577070</td>\n",
       "      <td>2.953200</td>\n",
       "      <td>0.000000</td>\n",
       "      <td>2.433500</td>\n",
       "      <td>0.873520</td>\n",
       "      <td>0.000000</td>\n",
       "      <td>0.000000</td>\n",
       "      <td>0.000000</td>\n",
       "      <td>0.000000</td>\n",
       "      <td>0.000000</td>\n",
       "    </tr>\n",
       "    <tr>\n",
       "      <th>25%</th>\n",
       "      <td>8.630331e+17</td>\n",
       "      <td>0.000000</td>\n",
       "      <td>11.493940</td>\n",
       "      <td>8.968680</td>\n",
       "      <td>10.776180</td>\n",
       "      <td>9.946600</td>\n",
       "      <td>10.077080</td>\n",
       "      <td>52.925080</td>\n",
       "      <td>47.021990</td>\n",
       "      <td>42.745990</td>\n",
       "      <td>24.693380</td>\n",
       "      <td>24.690250</td>\n",
       "    </tr>\n",
       "    <tr>\n",
       "      <th>50%</th>\n",
       "      <td>3.590434e+18</td>\n",
       "      <td>1.000000</td>\n",
       "      <td>12.747460</td>\n",
       "      <td>10.882380</td>\n",
       "      <td>12.374110</td>\n",
       "      <td>11.857690</td>\n",
       "      <td>11.934540</td>\n",
       "      <td>60.321530</td>\n",
       "      <td>54.615610</td>\n",
       "      <td>50.992960</td>\n",
       "      <td>49.257060</td>\n",
       "      <td>49.491280</td>\n",
       "    </tr>\n",
       "    <tr>\n",
       "      <th>75%</th>\n",
       "      <td>8.630331e+18</td>\n",
       "      <td>1.000000</td>\n",
       "      <td>14.003480</td>\n",
       "      <td>12.896070</td>\n",
       "      <td>13.793090</td>\n",
       "      <td>13.402420</td>\n",
       "      <td>13.396620</td>\n",
       "      <td>67.661290</td>\n",
       "      <td>62.179120</td>\n",
       "      <td>59.253310</td>\n",
       "      <td>74.859170</td>\n",
       "      <td>74.916930</td>\n",
       "    </tr>\n",
       "    <tr>\n",
       "      <th>max</th>\n",
       "      <td>8.630331e+18</td>\n",
       "      <td>1.000000</td>\n",
       "      <td>20.062980</td>\n",
       "      <td>21.529560</td>\n",
       "      <td>21.292520</td>\n",
       "      <td>20.337690</td>\n",
       "      <td>19.879360</td>\n",
       "      <td>100.000000</td>\n",
       "      <td>100.000000</td>\n",
       "      <td>100.000000</td>\n",
       "      <td>100.000000</td>\n",
       "      <td>100.000000</td>\n",
       "    </tr>\n",
       "  </tbody>\n",
       "</table>\n",
       "</div>"
      ],
      "text/plain": [
       "               imei          mwra      c.katana    c.dogalize  c.android.gm  \\\n",
       "count  1.514500e+04  15145.000000  15145.000000  15145.000000  15145.000000   \n",
       "mean   3.888406e+18      0.625157     12.753468     10.978112     12.170533   \n",
       "std    3.334890e+18      0.484098      1.863855      2.705844      2.392459   \n",
       "min    3.590434e+17      0.000000      5.577070      2.953200      0.000000   \n",
       "25%    8.630331e+17      0.000000     11.493940      8.968680     10.776180   \n",
       "50%    3.590434e+18      1.000000     12.747460     10.882380     12.374110   \n",
       "75%    8.630331e+18      1.000000     14.003480     12.896070     13.793090   \n",
       "max    8.630331e+18      1.000000     20.062980     21.529560     21.292520   \n",
       "\n",
       "       c.android.chrome  c.android.youtube  c.UCMobile.intl  c.updateassist  \\\n",
       "count      15145.000000       15145.000000     15145.000000    15145.000000   \n",
       "mean          11.617357          11.626803        60.290531       54.567888   \n",
       "std            2.500184           2.490396        11.088297       11.328329   \n",
       "min            2.433500           0.873520         0.000000        0.000000   \n",
       "25%            9.946600          10.077080        52.925080       47.021990   \n",
       "50%           11.857690          11.934540        60.321530       54.615610   \n",
       "75%           13.402420          13.396620        67.661290       62.179120   \n",
       "max           20.337690          19.879360       100.000000      100.000000   \n",
       "\n",
       "       c.UCMobile.x86  c.android.vending      c.raider  \n",
       "count    15145.000000       15145.000000  15145.000000  \n",
       "mean        51.059147          49.678824     49.810844  \n",
       "std         12.209954          28.978242     28.866897  \n",
       "min          0.000000           0.000000      0.000000  \n",
       "25%         42.745990          24.693380     24.690250  \n",
       "50%         50.992960          49.257060     49.491280  \n",
       "75%         59.253310          74.859170     74.916930  \n",
       "max        100.000000         100.000000    100.000000  "
      ]
     },
     "execution_count": 161,
     "metadata": {},
     "output_type": "execute_result"
    }
   ],
   "source": [
    "connections_data.describe()"
   ]
  },
  {
   "cell_type": "markdown",
   "id": "73a85985",
   "metadata": {},
   "source": [
    "Categorical:"
   ]
  },
  {
   "cell_type": "code",
   "execution_count": 162,
   "id": "be7da599",
   "metadata": {},
   "outputs": [
    {
     "data": {
      "text/html": [
       "<div>\n",
       "<style scoped>\n",
       "    .dataframe tbody tr th:only-of-type {\n",
       "        vertical-align: middle;\n",
       "    }\n",
       "\n",
       "    .dataframe tbody tr th {\n",
       "        vertical-align: top;\n",
       "    }\n",
       "\n",
       "    .dataframe thead th {\n",
       "        text-align: right;\n",
       "    }\n",
       "</style>\n",
       "<table border=\"1\" class=\"dataframe\">\n",
       "  <thead>\n",
       "    <tr style=\"text-align: right;\">\n",
       "      <th></th>\n",
       "      <th>ts</th>\n",
       "    </tr>\n",
       "  </thead>\n",
       "  <tbody>\n",
       "    <tr>\n",
       "      <th>count</th>\n",
       "      <td>15145</td>\n",
       "    </tr>\n",
       "    <tr>\n",
       "      <th>unique</th>\n",
       "      <td>14965</td>\n",
       "    </tr>\n",
       "    <tr>\n",
       "      <th>top</th>\n",
       "      <td>2018-05-06 20:17:00</td>\n",
       "    </tr>\n",
       "    <tr>\n",
       "      <th>freq</th>\n",
       "      <td>2</td>\n",
       "    </tr>\n",
       "  </tbody>\n",
       "</table>\n",
       "</div>"
      ],
      "text/plain": [
       "                         ts\n",
       "count                 15145\n",
       "unique                14965\n",
       "top     2018-05-06 20:17:00\n",
       "freq                      2"
      ]
     },
     "execution_count": 162,
     "metadata": {},
     "output_type": "execute_result"
    }
   ],
   "source": [
    "connections_data.describe(exclude=np.number)"
   ]
  },
  {
   "cell_type": "markdown",
   "id": "79b89747",
   "metadata": {},
   "source": [
    "The following statement confirms that all rows have all attributes filled in."
   ]
  },
  {
   "cell_type": "code",
   "execution_count": 163,
   "id": "d34267ff",
   "metadata": {},
   "outputs": [
    {
     "data": {
      "text/plain": [
       "15145"
      ]
     },
     "execution_count": 163,
     "metadata": {},
     "output_type": "execute_result"
    }
   ],
   "source": [
    "connections_data.dropna().shape[0]\n"
   ]
  },
  {
   "cell_type": "markdown",
   "id": "b28ade38",
   "metadata": {},
   "source": [
    "This display shows the number of unique values in each attribute."
   ]
  },
  {
   "cell_type": "code",
   "execution_count": 164,
   "id": "92a871ca",
   "metadata": {},
   "outputs": [
    {
     "data": {
      "text/plain": [
       "ts                   14965\n",
       "imei                   500\n",
       "mwra                     2\n",
       "c.katana             14785\n",
       "c.dogalize           14859\n",
       "c.android.gm         14838\n",
       "c.android.chrome     14855\n",
       "c.android.youtube    14825\n",
       "c.UCMobile.intl      14927\n",
       "c.updateassist       14929\n",
       "c.UCMobile.x86       14936\n",
       "c.android.vending    14961\n",
       "c.raider             14958\n",
       "dtype: int64"
      ]
     },
     "execution_count": 164,
     "metadata": {},
     "output_type": "execute_result"
    }
   ],
   "source": [
    "connections_data.nunique()"
   ]
  },
  {
   "cell_type": "markdown",
   "id": "7a5460c8",
   "metadata": {},
   "source": [
    "The number of duplicate rows is 180 according to the command below."
   ]
  },
  {
   "cell_type": "code",
   "execution_count": 165,
   "id": "115bad66",
   "metadata": {},
   "outputs": [
    {
     "data": {
      "text/plain": [
       "180"
      ]
     },
     "execution_count": 165,
     "metadata": {},
     "output_type": "execute_result"
    }
   ],
   "source": [
    "connections_data.shape[0] - connections_data.drop_duplicates().shape[0]"
   ]
  },
  {
   "cell_type": "markdown",
   "id": "8354a8ba",
   "metadata": {},
   "source": [
    "##### Problems with the dataset:\n",
    "- At this stage we do not see any problems with the dataset."
   ]
  },
  {
   "cell_type": "markdown",
   "id": "eb550b7b",
   "metadata": {},
   "source": [
    "#### Dataset 3: devices"
   ]
  },
  {
   "cell_type": "markdown",
   "id": "1484265f",
   "metadata": {},
   "source": [
    "#### Dataset 4: proccesses"
   ]
  },
  {
   "cell_type": "markdown",
   "id": "5a30af47",
   "metadata": {},
   "source": [
    "### B: Analysis of individual attributes: for the selected significant attributes (min 10), analyse their distributions and basic descriptive statistics."
   ]
  },
  {
   "cell_type": "markdown",
   "id": "b512fbcf",
   "metadata": {},
   "source": [
    "#### Dataset 1: profiles\n",
    "##### Significant attributes:"
   ]
  },
  {
   "cell_type": "markdown",
   "id": "bbe52faa",
   "metadata": {},
   "source": [
    "**Registation date**"
   ]
  },
  {
   "cell_type": "markdown",
   "id": "236e0ab8",
   "metadata": {},
   "source": [
    "Format registation date to same format."
   ]
  },
  {
   "cell_type": "code",
   "execution_count": 166,
   "id": "e426629a",
   "metadata": {},
   "outputs": [],
   "source": [
    "profiles_data[\"fixed_registration_date\"] = pd.to_datetime(profiles_data[\"registration\"], format='mixed')"
   ]
  },
  {
   "cell_type": "markdown",
   "id": "a1ec7d8d",
   "metadata": {},
   "source": [
    "We can see how many users have registered in each year."
   ]
  },
  {
   "cell_type": "code",
   "execution_count": 167,
   "id": "fd93a904",
   "metadata": {},
   "outputs": [
    {
     "data": {
      "image/png": "[encoded data removed]",
      "text/plain": [
       "<Figure size 1200x600 with 1 Axes>"
      ]
     },
     "metadata": {},
     "output_type": "display_data"
    }
   ],
   "source": [
    "profiles_data['year'] = profiles_data['fixed_registration_date'].dt.year\n",
    "\n",
    "year_mean = profiles_data['year'].value_counts().mean()\n",
    "\n",
    "plt.figure(figsize=(12, 6))\n",
    "plt.plot(profiles_data['year'].value_counts().sort_index(), marker='o', color='orange')\n",
    "plt.title('Distribution of registration dates by year')\n",
    "plt.xlabel('Registration year')\n",
    "plt.ylabel('Number of profiles')\n",
    "plt.axhline(year_mean, color='green', linestyle='--')\n",
    "\n",
    "plt.grid()\n",
    "plt.show()"
   ]
  },
  {
   "cell_type": "markdown",
   "id": "8ca1f6c0",
   "metadata": {},
   "source": [
    "As we can see, the most users registered in 2018. Users started to register in 2017 and in 2024 the registration number is falling. The green line shows the average number of registrations per year."
   ]
  },
  {
   "cell_type": "code",
   "execution_count": 168,
   "id": "f060084d",
   "metadata": {},
   "outputs": [
    {
     "data": {
      "image/png": "[encoded data removed]",
      "text/plain": [
       "<Figure size 1200x600 with 1 Axes>"
      ]
     },
     "metadata": {},
     "output_type": "display_data"
    }
   ],
   "source": [
    "profiles_data['month'] = profiles_data['fixed_registration_date'].dt.month\n",
    "\n",
    "month_mean = profiles_data['month'].value_counts().mean()\n",
    "\n",
    "plt.figure(figsize=(12, 6))\n",
    "plt.plot(profiles_data['month'].value_counts().sort_index(), marker='o', color='lightgreen')\n",
    "plt.title('Distribution of registration dates by month')\n",
    "plt.xlabel('Registration month')\n",
    "plt.ylabel('Number of profiles')\n",
    "\n",
    "plt.axhline(month_mean, color='red', linestyle='--')\n",
    "plt.grid()\n",
    "plt.show()"
   ]
  },
  {
   "cell_type": "markdown",
   "id": "0d29cc5c",
   "metadata": {},
   "source": [
    "As we can see, the most users register in December and second part of the year. The red line shows the average number of registrations per month."
   ]
  },
  {
   "cell_type": "markdown",
   "id": "923f63cd",
   "metadata": {},
   "source": [
    "**Bitrhdate**\n"
   ]
  },
  {
   "cell_type": "markdown",
   "id": "b57199db",
   "metadata": {},
   "source": [
    "In the start we will delete the rows with missing values in the birthdate attribute."
   ]
  },
  {
   "cell_type": "code",
   "execution_count": 169,
   "id": "9a98eb08",
   "metadata": {},
   "outputs": [
    {
     "data": {
      "text/html": [
       "<div>\n",
       "<style scoped>\n",
       "    .dataframe tbody tr th:only-of-type {\n",
       "        vertical-align: middle;\n",
       "    }\n",
       "\n",
       "    .dataframe tbody tr th {\n",
       "        vertical-align: top;\n",
       "    }\n",
       "\n",
       "    .dataframe thead th {\n",
       "        text-align: right;\n",
       "    }\n",
       "</style>\n",
       "<table border=\"1\" class=\"dataframe\">\n",
       "  <thead>\n",
       "    <tr style=\"text-align: right;\">\n",
       "      <th></th>\n",
       "      <th>registration</th>\n",
       "      <th>imei</th>\n",
       "      <th>username</th>\n",
       "      <th>ssn</th>\n",
       "      <th>user_id</th>\n",
       "      <th>name</th>\n",
       "      <th>job</th>\n",
       "      <th>address</th>\n",
       "      <th>current_location</th>\n",
       "      <th>birthdate</th>\n",
       "      <th>mail</th>\n",
       "      <th>company</th>\n",
       "      <th>fixed_registration_date</th>\n",
       "      <th>year</th>\n",
       "      <th>month</th>\n",
       "      <th>birthdate-year</th>\n",
       "    </tr>\n",
       "  </thead>\n",
       "  <tbody>\n",
       "    <tr>\n",
       "      <th>0</th>\n",
       "      <td>02 Apr 2024</td>\n",
       "      <td>8630330696303481594</td>\n",
       "      <td>regina30</td>\n",
       "      <td>719-26-3476</td>\n",
       "      <td>507</td>\n",
       "      <td>Rebecca Moreno</td>\n",
       "      <td>Librarian, public</td>\n",
       "      <td>Unit 5700 Box 8952\\r\\nDPO AP 70659</td>\n",
       "      <td>(Decimal('43.251681'), Decimal('4.085137'))</td>\n",
       "      <td>1977-03-13</td>\n",
       "      <td>cjohnson@hotmail.com</td>\n",
       "      <td>Shepard Ltd</td>\n",
       "      <td>2024-04-02</td>\n",
       "      <td>2024</td>\n",
       "      <td>4</td>\n",
       "      <td>1977.0</td>\n",
       "    </tr>\n",
       "    <tr>\n",
       "      <th>1</th>\n",
       "      <td>2021-10-02</td>\n",
       "      <td>863033069630348412</td>\n",
       "      <td>ronaldhughes</td>\n",
       "      <td>500-12-7252</td>\n",
       "      <td>1158</td>\n",
       "      <td>Joshua Hicks</td>\n",
       "      <td>NaN</td>\n",
       "      <td>NaN</td>\n",
       "      <td>(Decimal('-7.708654'), Decimal('144.652216'))</td>\n",
       "      <td>1980-10-08</td>\n",
       "      <td>ggray@gmail.com</td>\n",
       "      <td>Coleman LLC</td>\n",
       "      <td>2021-10-02</td>\n",
       "      <td>2021</td>\n",
       "      <td>10</td>\n",
       "      <td>1980.0</td>\n",
       "    </tr>\n",
       "    <tr>\n",
       "      <th>3</th>\n",
       "      <td>03/23/2023, 00:00:00</td>\n",
       "      <td>3590433799317661230</td>\n",
       "      <td>grimessamuel</td>\n",
       "      <td>006-67-1751</td>\n",
       "      <td>954</td>\n",
       "      <td>Victoria Hughes</td>\n",
       "      <td>NaN</td>\n",
       "      <td>NaN</td>\n",
       "      <td>(Decimal('-17.4220355'), Decimal('-30.820327'))</td>\n",
       "      <td>NaN</td>\n",
       "      <td>melissajohnson@gmail.com</td>\n",
       "      <td>Erickson, Robinson and Bailey</td>\n",
       "      <td>2023-03-23</td>\n",
       "      <td>2023</td>\n",
       "      <td>3</td>\n",
       "      <td>1920.0</td>\n",
       "    </tr>\n",
       "    <tr>\n",
       "      <th>4</th>\n",
       "      <td>09/17/2020, 00:00:00</td>\n",
       "      <td>359043379931766437</td>\n",
       "      <td>obrown</td>\n",
       "      <td>188-07-0566</td>\n",
       "      <td>1409</td>\n",
       "      <td>Michael Petersen</td>\n",
       "      <td>NaN</td>\n",
       "      <td>94495 Smith Fork Suite 229\\r\\nChandlerberg, MD...</td>\n",
       "      <td>NaN</td>\n",
       "      <td>NaN</td>\n",
       "      <td>ryan13@yahoo.com</td>\n",
       "      <td>Murphy PLC</td>\n",
       "      <td>2020-09-17</td>\n",
       "      <td>2020</td>\n",
       "      <td>9</td>\n",
       "      <td>1954.0</td>\n",
       "    </tr>\n",
       "    <tr>\n",
       "      <th>5</th>\n",
       "      <td>2022-07-30</td>\n",
       "      <td>8630330696303482030</td>\n",
       "      <td>matthewsexton</td>\n",
       "      <td>070-72-5615</td>\n",
       "      <td>160</td>\n",
       "      <td>Angela Reed</td>\n",
       "      <td>NaN</td>\n",
       "      <td>93778 Williams Lodge\\r\\nSouth Morganshire, GU ...</td>\n",
       "      <td>(Decimal('37.4549045'), Decimal('102.548405'))</td>\n",
       "      <td>NaN</td>\n",
       "      <td>samantha77@yahoo.com</td>\n",
       "      <td>Braun LLC</td>\n",
       "      <td>2022-07-30</td>\n",
       "      <td>2022</td>\n",
       "      <td>7</td>\n",
       "      <td>1914.0</td>\n",
       "    </tr>\n",
       "    <tr>\n",
       "      <th>...</th>\n",
       "      <td>...</td>\n",
       "      <td>...</td>\n",
       "      <td>...</td>\n",
       "      <td>...</td>\n",
       "      <td>...</td>\n",
       "      <td>...</td>\n",
       "      <td>...</td>\n",
       "      <td>...</td>\n",
       "      <td>...</td>\n",
       "      <td>...</td>\n",
       "      <td>...</td>\n",
       "      <td>...</td>\n",
       "      <td>...</td>\n",
       "      <td>...</td>\n",
       "      <td>...</td>\n",
       "      <td>...</td>\n",
       "    </tr>\n",
       "    <tr>\n",
       "      <th>1373</th>\n",
       "      <td>2017/10/06</td>\n",
       "      <td>8630330696303481321</td>\n",
       "      <td>clarkshannon</td>\n",
       "      <td>192-65-2921</td>\n",
       "      <td>1100</td>\n",
       "      <td>Rebecca Phillips</td>\n",
       "      <td>Animator</td>\n",
       "      <td>5124 Smith Locks Apt. 138\\r\\nNorth Katrina, SC...</td>\n",
       "      <td>(Decimal('51.1641505'), Decimal('142.508673'))</td>\n",
       "      <td>NaN</td>\n",
       "      <td>mcbridestephanie@gmail.com</td>\n",
       "      <td>Wheeler, Thompson and Frost</td>\n",
       "      <td>2017-10-06</td>\n",
       "      <td>2017</td>\n",
       "      <td>10</td>\n",
       "      <td>1918.0</td>\n",
       "    </tr>\n",
       "    <tr>\n",
       "      <th>1374</th>\n",
       "      <td>2022/05/08</td>\n",
       "      <td>863033069630348958</td>\n",
       "      <td>harveymichael</td>\n",
       "      <td>644-33-9810</td>\n",
       "      <td>1725</td>\n",
       "      <td>Keith Nunez</td>\n",
       "      <td>NaN</td>\n",
       "      <td>NaN</td>\n",
       "      <td>(Decimal('-81.030447'), Decimal('51.499961'))</td>\n",
       "      <td>NaN</td>\n",
       "      <td>bhines@gmail.com</td>\n",
       "      <td>Lopez, Mcdowell and Smith</td>\n",
       "      <td>2022-05-08</td>\n",
       "      <td>2022</td>\n",
       "      <td>5</td>\n",
       "      <td>1932.0</td>\n",
       "    </tr>\n",
       "    <tr>\n",
       "      <th>1375</th>\n",
       "      <td>12/23/2017, 00:00:00</td>\n",
       "      <td>863033069630348974</td>\n",
       "      <td>robleswendy</td>\n",
       "      <td>279-89-1119</td>\n",
       "      <td>405</td>\n",
       "      <td>Kristen Walker</td>\n",
       "      <td>NaN</td>\n",
       "      <td>960 Laura Park Apt. 645\\r\\nNew David, PW 21824</td>\n",
       "      <td>(Decimal('-16.8804255'), Decimal('78.735270'))</td>\n",
       "      <td>1977-03-01</td>\n",
       "      <td>brittanybenton@yahoo.com</td>\n",
       "      <td>Perry-Wells</td>\n",
       "      <td>2017-12-23</td>\n",
       "      <td>2017</td>\n",
       "      <td>12</td>\n",
       "      <td>1998.0</td>\n",
       "    </tr>\n",
       "    <tr>\n",
       "      <th>1376</th>\n",
       "      <td>03 Aug 2024</td>\n",
       "      <td>3590433799317661271</td>\n",
       "      <td>shannon87</td>\n",
       "      <td>145-19-2179</td>\n",
       "      <td>1592</td>\n",
       "      <td>Amy Morse</td>\n",
       "      <td>NaN</td>\n",
       "      <td>NaN</td>\n",
       "      <td>(Decimal('-68.9539975'), Decimal('-142.766036'))</td>\n",
       "      <td>NaN</td>\n",
       "      <td>jsmith@hotmail.com</td>\n",
       "      <td>Munoz-Evans</td>\n",
       "      <td>2024-08-03</td>\n",
       "      <td>2024</td>\n",
       "      <td>8</td>\n",
       "      <td>1995.0</td>\n",
       "    </tr>\n",
       "    <tr>\n",
       "      <th>1377</th>\n",
       "      <td>07/08/2020, 00:00:00</td>\n",
       "      <td>863033069630348099</td>\n",
       "      <td>pthomas</td>\n",
       "      <td>692-02-0904</td>\n",
       "      <td>767</td>\n",
       "      <td>Edward Sweeney</td>\n",
       "      <td>NaN</td>\n",
       "      <td>33431 Jerry Plaza\\r\\nLopezberg, MN 36095</td>\n",
       "      <td>(Decimal('89.8176735'), Decimal('-92.708475'))</td>\n",
       "      <td>1955-07-24</td>\n",
       "      <td>cruzmiranda@hotmail.com</td>\n",
       "      <td>Miller-Carrillo</td>\n",
       "      <td>2020-07-08</td>\n",
       "      <td>2020</td>\n",
       "      <td>7</td>\n",
       "      <td>2013.0</td>\n",
       "    </tr>\n",
       "  </tbody>\n",
       "</table>\n",
       "<p>1377 rows × 16 columns</p>\n",
       "</div>"
      ],
      "text/plain": [
       "              registration                 imei       username          ssn  \\\n",
       "0              02 Apr 2024  8630330696303481594       regina30  719-26-3476   \n",
       "1               2021-10-02   863033069630348412   ronaldhughes  500-12-7252   \n",
       "3     03/23/2023, 00:00:00  3590433799317661230   grimessamuel  006-67-1751   \n",
       "4     09/17/2020, 00:00:00   359043379931766437         obrown  188-07-0566   \n",
       "5               2022-07-30  8630330696303482030  matthewsexton  070-72-5615   \n",
       "...                    ...                  ...            ...          ...   \n",
       "1373            2017/10/06  8630330696303481321   clarkshannon  192-65-2921   \n",
       "1374            2022/05/08   863033069630348958  harveymichael  644-33-9810   \n",
       "1375  12/23/2017, 00:00:00   863033069630348974    robleswendy  279-89-1119   \n",
       "1376           03 Aug 2024  3590433799317661271      shannon87  145-19-2179   \n",
       "1377  07/08/2020, 00:00:00   863033069630348099        pthomas  692-02-0904   \n",
       "\n",
       "      user_id              name                job  \\\n",
       "0         507    Rebecca Moreno  Librarian, public   \n",
       "1        1158      Joshua Hicks                NaN   \n",
       "3         954   Victoria Hughes                NaN   \n",
       "4        1409  Michael Petersen                NaN   \n",
       "5         160       Angela Reed                NaN   \n",
       "...       ...               ...                ...   \n",
       "1373     1100  Rebecca Phillips           Animator   \n",
       "1374     1725       Keith Nunez                NaN   \n",
       "1375      405    Kristen Walker                NaN   \n",
       "1376     1592         Amy Morse                NaN   \n",
       "1377      767    Edward Sweeney                NaN   \n",
       "\n",
       "                                                address  \\\n",
       "0                    Unit 5700 Box 8952\\r\\nDPO AP 70659   \n",
       "1                                                   NaN   \n",
       "3                                                   NaN   \n",
       "4     94495 Smith Fork Suite 229\\r\\nChandlerberg, MD...   \n",
       "5     93778 Williams Lodge\\r\\nSouth Morganshire, GU ...   \n",
       "...                                                 ...   \n",
       "1373  5124 Smith Locks Apt. 138\\r\\nNorth Katrina, SC...   \n",
       "1374                                                NaN   \n",
       "1375     960 Laura Park Apt. 645\\r\\nNew David, PW 21824   \n",
       "1376                                                NaN   \n",
       "1377           33431 Jerry Plaza\\r\\nLopezberg, MN 36095   \n",
       "\n",
       "                                      current_location   birthdate  \\\n",
       "0          (Decimal('43.251681'), Decimal('4.085137'))  1977-03-13   \n",
       "1        (Decimal('-7.708654'), Decimal('144.652216'))  1980-10-08   \n",
       "3      (Decimal('-17.4220355'), Decimal('-30.820327'))         NaN   \n",
       "4                                                  NaN         NaN   \n",
       "5       (Decimal('37.4549045'), Decimal('102.548405'))         NaN   \n",
       "...                                                ...         ...   \n",
       "1373    (Decimal('51.1641505'), Decimal('142.508673'))         NaN   \n",
       "1374     (Decimal('-81.030447'), Decimal('51.499961'))         NaN   \n",
       "1375    (Decimal('-16.8804255'), Decimal('78.735270'))  1977-03-01   \n",
       "1376  (Decimal('-68.9539975'), Decimal('-142.766036'))         NaN   \n",
       "1377    (Decimal('89.8176735'), Decimal('-92.708475'))  1955-07-24   \n",
       "\n",
       "                            mail                        company  \\\n",
       "0           cjohnson@hotmail.com                    Shepard Ltd   \n",
       "1                ggray@gmail.com                    Coleman LLC   \n",
       "3       melissajohnson@gmail.com  Erickson, Robinson and Bailey   \n",
       "4               ryan13@yahoo.com                     Murphy PLC   \n",
       "5           samantha77@yahoo.com                      Braun LLC   \n",
       "...                          ...                            ...   \n",
       "1373  mcbridestephanie@gmail.com    Wheeler, Thompson and Frost   \n",
       "1374            bhines@gmail.com      Lopez, Mcdowell and Smith   \n",
       "1375    brittanybenton@yahoo.com                    Perry-Wells   \n",
       "1376          jsmith@hotmail.com                    Munoz-Evans   \n",
       "1377     cruzmiranda@hotmail.com                Miller-Carrillo   \n",
       "\n",
       "     fixed_registration_date  year  month  birthdate-year  \n",
       "0                 2024-04-02  2024      4          1977.0  \n",
       "1                 2021-10-02  2021     10          1980.0  \n",
       "3                 2023-03-23  2023      3          1920.0  \n",
       "4                 2020-09-17  2020      9          1954.0  \n",
       "5                 2022-07-30  2022      7          1914.0  \n",
       "...                      ...   ...    ...             ...  \n",
       "1373              2017-10-06  2017     10          1918.0  \n",
       "1374              2022-05-08  2022      5          1932.0  \n",
       "1375              2017-12-23  2017     12          1998.0  \n",
       "1376              2024-08-03  2024      8          1995.0  \n",
       "1377              2020-07-08  2020      7          2013.0  \n",
       "\n",
       "[1377 rows x 16 columns]"
      ]
     },
     "execution_count": 169,
     "metadata": {},
     "output_type": "execute_result"
    }
   ],
   "source": [
    "profiles_data_unique = profiles_data['birthdate'].drop_duplicates()\n",
    "profiles_data_unique.reset_index(drop=True, inplace=True)\n",
    "profiles_data['birthdate-year'] = pd.to_datetime(profiles_data_unique, format=\"mixed\", errors='coerce').dt.year\n",
    "profiles_data.dropna(subset=['birthdate-year'])"
   ]
  },
  {
   "cell_type": "code",
   "execution_count": 170,
   "id": "9d8bfed0",
   "metadata": {},
   "outputs": [
    {
     "data": {
      "image/png": "[encoded data removed]",
      "text/plain": [
       "<Figure size 1200x600 with 1 Axes>"
      ]
     },
     "metadata": {},
     "output_type": "display_data"
    }
   ],
   "source": [
    "mean_year_birthday = profiles_data['birthdate-year'].mean()\n",
    "max_year_birthday = profiles_data['birthdate-year'].max()\n",
    "min_year_birthday = profiles_data['birthdate-year'].min()\n",
    "plt.figure(figsize=(12, 6))\n",
    "plt.hist(profiles_data['birthdate-year'], bins=50, color='pink', edgecolor='black')\n",
    "plt.title('Year of birth distribution')\n",
    "plt.xlabel('Year')\n",
    "plt.ylabel('Number of users')\n",
    "plt.axvline(mean_year_birthday, color='blue', linestyle='--', label='Mean year of birth: '+str(int(mean_year_birthday)))\n",
    "plt.axvline(max_year_birthday, color='red', linestyle='--', label='Max year of birth: '+str(int(max_year_birthday)))\n",
    "plt.axvline(min_year_birthday, color='green', linestyle='--', label='Min year of birth: '+str(int(min_year_birthday)))\n",
    "plt.legend()\n",
    "plt.show()"
   ]
  },
  {
   "cell_type": "markdown",
   "id": "2629b5d3",
   "metadata": {},
   "source": [
    "As we can see above, the average year of birth was 1965. But some data not give us the correct information. The oldest user was born in 1908 and the youngest in 2024. This is not possible as if person was born in 1908, now he would be 114 years old."
   ]
  },
  {
   "cell_type": "markdown",
   "id": "00e965f5",
   "metadata": {},
   "source": [
    "**Email domains**"
   ]
  },
  {
   "cell_type": "markdown",
   "id": "30735bdb",
   "metadata": {},
   "source": [
    "Let's prepare the data for the analysis. We will extract the domain from the email address. Duplicate mails will be removed."
   ]
  },
  {
   "cell_type": "code",
   "execution_count": 171,
   "id": "149cbdd6",
   "metadata": {},
   "outputs": [
    {
     "data": {
      "text/plain": [
       "mail-formatted\n",
       "yahoo.com      853\n",
       "gmail.com      838\n",
       "hotmail.com    834\n",
       "Name: count, dtype: int64"
      ]
     },
     "execution_count": 171,
     "metadata": {},
     "output_type": "execute_result"
    }
   ],
   "source": [
    "profiles_data['mail-formatted'] = profiles_data['mail'].drop_duplicates().str.split('@').str[1]\n",
    "profiles_data['mail-formatted'].value_counts()"
   ]
  },
  {
   "cell_type": "code",
   "execution_count": 172,
   "id": "900b8cf8",
   "metadata": {},
   "outputs": [
    {
     "data": {
      "image/png": "[encoded data removed]",
      "text/plain": [
       "<Figure size 800x600 with 1 Axes>"
      ]
     },
     "metadata": {},
     "output_type": "display_data"
    }
   ],
   "source": [
    "plt.figure(figsize=(8, 6))\n",
    "plt.title(f'Domain distribution of mail addresses')\n",
    "profiles_data['mail-formatted'].value_counts().plot.pie(autopct='%1.2f%%', startangle=90, colors=['lightgrey', 'lightgreen', 'pink'])\n",
    "plt.ylabel('')\n",
    "plt.show()"
   ]
  },
  {
   "cell_type": "markdown",
   "id": "ce5f9331",
   "metadata": {},
   "source": [
    "In the plot above we can see that mail domain distribution is very balanced. The most popular domain is yahoo.com. But the difference between the most popular and the least popular domain is not significant."
   ]
  },
  {
   "cell_type": "markdown",
   "id": "048bb54a",
   "metadata": {},
   "source": [
    "#### Dataset 2: connections"
   ]
  },
  {
   "cell_type": "markdown",
   "id": "d1d68460",
   "metadata": {},
   "source": [
    "**mwra**"
   ]
  },
  {
   "cell_type": "code",
   "execution_count": 173,
   "id": "787c44e7",
   "metadata": {},
   "outputs": [
    {
     "data": {
      "image/png": "[encoded data removed]",
      "text/plain": [
       "<Figure size 800x600 with 1 Axes>"
      ]
     },
     "metadata": {},
     "output_type": "display_data"
    }
   ],
   "source": [
    "plt.figure(figsize=(8, 6))\n",
    "plt.title(f'Mwra distribution')\n",
    "connections_data['mwra'].value_counts().plot.pie(autopct='%1.2f%%', startangle=90, colors=['lightblue', 'lightcoral'])\n",
    "plt.ylabel('')\n",
    "plt.show()"
   ]
  },
  {
   "cell_type": "markdown",
   "id": "86679a05",
   "metadata": {},
   "source": [
    "A histogram of the mwra attribute is shown above. The histogram shows that the values are between 0 and 1. The value 1 is more popular that 0."
   ]
  },
  {
   "cell_type": "markdown",
   "id": "69b4f7eb",
   "metadata": {},
   "source": [
    "**c.android.youtube**"
   ]
  },
  {
   "cell_type": "code",
   "execution_count": 174,
   "id": "8cc2827c",
   "metadata": {},
   "outputs": [
    {
     "data": {
      "image/png": "[encoded data removed]",
      "text/plain": [
       "<Figure size 1200x600 with 1 Axes>"
      ]
     },
     "metadata": {},
     "output_type": "display_data"
    }
   ],
   "source": [
    "mean_conn_youtube = connections_data['c.android.youtube'].mean()\n",
    "median_conn_youtube = connections_data['c.android.youtube'].median()\n",
    "mode_conn_youtube = connections_data['c.android.youtube'].mode()[0]\n",
    "\n",
    "plt.figure(figsize=(12, 6))\n",
    "plt.hist(connections_data['c.android.youtube'], bins=50, color='lightblue', edgecolor='black')\n",
    "plt.title('Number of connections to YouTube in android devices')\n",
    "plt.xlabel('Value')\n",
    "plt.ylabel('Number of connections')\n",
    "plt.axvline(mean_conn_youtube, color='red', linestyle='--', label='Mean: '+str(mean_conn_youtube))\n",
    "plt.axvline(median_conn_youtube, color='green', linestyle='--', label='Median: '+str(median_conn_youtube))\n",
    "plt.axvline(mode_conn_youtube, color='orange', linestyle='--', label='Mode: '+str(mode_conn_youtube))\n",
    "plt.legend()\n",
    "plt.show()\n"
   ]
  },
  {
   "cell_type": "markdown",
   "id": "cf09d92a",
   "metadata": {},
   "source": [
    "As we can see above, this is negative skewed distribution. The most values are between 5 and 17.5. The average value is 11.6."
   ]
  },
  {
   "cell_type": "markdown",
   "id": "0f9ba26f",
   "metadata": {},
   "source": [
    "#### Dataset 3: devices\n"
   ]
  },
  {
   "cell_type": "markdown",
   "id": "d64848d3",
   "metadata": {},
   "source": [
    "#### Dataset 4: proccesses\n"
   ]
  },
  {
   "cell_type": "markdown",
   "id": "51f3dc6b",
   "metadata": {},
   "source": [
    "### C: Pairwise Data Analysis: Identify relationships and dependencies between pairs of attributes."
   ]
  },
  {
   "cell_type": "markdown",
   "id": "c512b7d0",
   "metadata": {},
   "source": [
    "#### Dataset 1: profiles"
   ]
  },
  {
   "cell_type": "markdown",
   "id": "4685dca6",
   "metadata": {},
   "source": [
    "#### Dataset 2: connections"
   ]
  },
  {
   "cell_type": "markdown",
   "id": "9d21d8da",
   "metadata": {},
   "source": [
    "#### Dataset 3: devices\n"
   ]
  },
  {
   "cell_type": "markdown",
   "id": "7ca396b6",
   "metadata": {},
   "source": [
    "#### Dataset 4: processes\n"
   ]
  },
  {
   "cell_type": "markdown",
   "id": "db8ea1f4",
   "metadata": {},
   "source": [
    "### D: Pairwise data analysis: identify the dependencies between the predicted variable and other variables (potential predictors)"
   ]
  },
  {
   "cell_type": "markdown",
   "id": "2a473df2",
   "metadata": {},
   "source": [
    "#### Dataset 1: profiles"
   ]
  },
  {
   "cell_type": "markdown",
   "id": "e9e28fcd",
   "metadata": {},
   "source": [
    "#### Dataset 2: connections"
   ]
  },
  {
   "cell_type": "markdown",
   "id": "34f2e1c5",
   "metadata": {},
   "source": [
    "#### Dataset 3: devices\n"
   ]
  },
  {
   "cell_type": "markdown",
   "id": "76ccd585",
   "metadata": {},
   "source": [
    "#### Dataset 4: processes\n"
   ]
  },
  {
   "cell_type": "markdown",
   "id": "68071bd9",
   "metadata": {},
   "source": [
    "### E: Document your initial thinking to address the project brief, e.g. are any attributes interdependent? Which attributes does the predicted variable depend on? whether records from multiple files need to be combined?"
   ]
  },
  {
   "cell_type": "markdown",
   "metadata": {},
   "source": [
    "#### Dataset 1: profiles"
   ]
  },
  {
   "cell_type": "markdown",
   "metadata": {},
   "source": [
    "#### Dataset 2: connections"
   ]
  },
  {
   "cell_type": "markdown",
   "metadata": {},
   "source": [
    "#### Dataset 3: devices\n"
   ]
  },
  {
   "cell_type": "markdown",
   "metadata": {},
   "source": [
    "#### Dataset 4: processes\n"
   ]
  }
 ],
 "metadata": {
  "kernelspec": {
   "display_name": "Python 3",
   "language": "python",
   "name": "python3"
  },
  "language_info": {
   "codemirror_mode": {
    "name": "ipython",
    "version": 3
   },
   "file_extension": ".py",
   "mimetype": "text/x-python",
   "name": "python",
   "nbconvert_exporter": "python",
   "pygments_lexer": "ipython3",
   "version": "3.10.5"
  }
 },
 "nbformat": 4,
 "nbformat_minor": 5
}
