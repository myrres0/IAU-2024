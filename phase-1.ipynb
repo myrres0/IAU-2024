{
 "cells": [
  {
   "cell_type": "markdown",
   "source": [
    "# Phase 1 - Exploratory analysis\n",
    "###  Authors: Karolina Skrypova(50%), Oleh Fedunchyk(50%)\n",
    "\n",
    "Goal: In the first phase of the project, we will perform an exploratory analysis of the data. This will help us to understand the data and its characteristics to make better decisions in the next phases of the project and create the best model for machine learning."
   ],
   "metadata": {
    "collapsed": false
   },
   "id": "f457eae62f5b3633"
  },
  {
   "cell_type": "markdown",
   "source": [
    "## Importing libraries"
   ],
   "metadata": {
    "collapsed": false
   },
   "id": "11170bfffeb8c2"
  },
  {
   "cell_type": "code",
   "execution_count": 4,
   "outputs": [],
   "source": [
    "import pandas"
   ],
   "metadata": {
    "collapsed": false,
    "ExecuteTime": {
     "end_time": "2024-10-05T19:16:09.877104800Z",
     "start_time": "2024-10-05T19:16:06.788529600Z"
    }
   },
   "id": "f9f94454f7db7076"
  },
  {
   "cell_type": "markdown",
   "source": [
    "## Loading the data"
   ],
   "metadata": {
    "collapsed": false
   },
   "id": "4c6fffe23356f024"
  },
  {
   "cell_type": "code",
   "execution_count": 5,
   "outputs": [],
   "source": [
    "# Reading a CSV file\n",
    "devices = pandas.read_csv('dataset-120/devices.csv', sep='\\t')\n",
    "processes = pandas.read_csv('dataset-120/processes.csv', sep='\\t')"
   ],
   "metadata": {
    "collapsed": false,
    "ExecuteTime": {
     "end_time": "2024-10-05T19:16:09.961561900Z",
     "start_time": "2024-10-05T19:16:09.877104800Z"
    }
   },
   "id": "59e6d7cbaf1689e2"
  },
  {
   "cell_type": "markdown",
   "source": [
    "## 1.1 Basic description of the data together with their characteristics"
   ],
   "metadata": {
    "collapsed": false
   },
   "id": "1a30ba8a4cf0aba6"
  },
  {
   "cell_type": "markdown",
   "source": [
    "#### 1. Devices data"
   ],
   "metadata": {
    "collapsed": false
   },
   "id": "eb1a235400689220"
  },
  {
   "cell_type": "code",
   "execution_count": 6,
   "outputs": [
    {
     "name": "stdout",
     "output_type": "stream",
     "text": [
      "Devices table structure consists of 6 attributes:\n",
      "['latitude', 'longitude', 'store_name', 'code', 'location', 'imei']\n"
     ]
    }
   ],
   "source": [
    "# Basic structure of the devices data\n",
    "devices_columns = devices.columns.tolist()\n",
    "print(\"Devices table structure consists of {} attributes:\\n{}\".format(len(devices_columns), devices_columns))"
   ],
   "metadata": {
    "collapsed": false,
    "ExecuteTime": {
     "end_time": "2024-10-05T19:16:09.970862200Z",
     "start_time": "2024-10-05T19:16:09.961561900Z"
    }
   },
   "id": "2ec8be7331f5a5d8"
  },
  {
   "cell_type": "markdown",
   "source": [
    "So as we can see, the devices data consists of 6 attributes. Let's take a look at some values from this table."
   ],
   "metadata": {
    "collapsed": false
   },
   "id": "ca045071010d4ded"
  },
  {
   "cell_type": "code",
   "execution_count": 7,
   "outputs": [
    {
     "data": {
      "text/plain": "   latitude  longitude     store_name code           location  \\\n0  28.54944  -81.77285       Clermont   US   America/New_York   \n1  51.39148   -0.29825       Surbiton   GB      Europe/London   \n2  13.81960  100.04427  Nakhon Pathom   TH       Asia/Bangkok   \n3 -28.24000  -48.67028       Imbituba   BR  America/Sao_Paulo   \n4  47.48444   36.25361         Polohy   UA  Europe/Zaporozhye   \n\n                  imei  \n0  3590433799317661198  \n1  8630330696303481057  \n2  8630330696303481610  \n3   359043379931766619  \n4  3590433799317662428  ",
      "text/html": "<div>\n<style scoped>\n    .dataframe tbody tr th:only-of-type {\n        vertical-align: middle;\n    }\n\n    .dataframe tbody tr th {\n        vertical-align: top;\n    }\n\n    .dataframe thead th {\n        text-align: right;\n    }\n</style>\n<table border=\"1\" class=\"dataframe\">\n  <thead>\n    <tr style=\"text-align: right;\">\n      <th></th>\n      <th>latitude</th>\n      <th>longitude</th>\n      <th>store_name</th>\n      <th>code</th>\n      <th>location</th>\n      <th>imei</th>\n    </tr>\n  </thead>\n  <tbody>\n    <tr>\n      <th>0</th>\n      <td>28.54944</td>\n      <td>-81.77285</td>\n      <td>Clermont</td>\n      <td>US</td>\n      <td>America/New_York</td>\n      <td>3590433799317661198</td>\n    </tr>\n    <tr>\n      <th>1</th>\n      <td>51.39148</td>\n      <td>-0.29825</td>\n      <td>Surbiton</td>\n      <td>GB</td>\n      <td>Europe/London</td>\n      <td>8630330696303481057</td>\n    </tr>\n    <tr>\n      <th>2</th>\n      <td>13.81960</td>\n      <td>100.04427</td>\n      <td>Nakhon Pathom</td>\n      <td>TH</td>\n      <td>Asia/Bangkok</td>\n      <td>8630330696303481610</td>\n    </tr>\n    <tr>\n      <th>3</th>\n      <td>-28.24000</td>\n      <td>-48.67028</td>\n      <td>Imbituba</td>\n      <td>BR</td>\n      <td>America/Sao_Paulo</td>\n      <td>359043379931766619</td>\n    </tr>\n    <tr>\n      <th>4</th>\n      <td>47.48444</td>\n      <td>36.25361</td>\n      <td>Polohy</td>\n      <td>UA</td>\n      <td>Europe/Zaporozhye</td>\n      <td>3590433799317662428</td>\n    </tr>\n  </tbody>\n</table>\n</div>"
     },
     "execution_count": 7,
     "metadata": {},
     "output_type": "execute_result"
    }
   ],
   "source": [
    "# Quick look at the devices data\n",
    "devices.head()"
   ],
   "metadata": {
    "collapsed": false,
    "ExecuteTime": {
     "end_time": "2024-10-05T19:16:10.027756600Z",
     "start_time": "2024-10-05T19:16:09.970862200Z"
    }
   },
   "id": "e1cccdcec9a67a7e"
  },
  {
   "cell_type": "markdown",
   "source": [
    "After looking at the values, we can assume that the devices data contains the next information:\n",
    "- **latitude**: The latitude of the device's geographical location.\n",
    "- **longitude**: The longitude of the device's geographical location.\n",
    "- **store_name**: The name of the store through which the device was purchased or registered.\n",
    "- **code**: The unique code of the country where the device was sold or registered.\n",
    "- **location**: The location of the device or the store where it was purchased.\n",
    "- **imei**: A unique identification number of a mobile device (International Mobile Equipment Identity)."
   ],
   "metadata": {
    "collapsed": false
   },
   "id": "c6011baa2f82a4d2"
  },
  {
   "cell_type": "markdown",
   "source": [
    "#### 2. Processes data"
   ],
   "metadata": {
    "collapsed": false
   },
   "id": "4dee871486e2d45c"
  },
  {
   "cell_type": "code",
   "execution_count": 8,
   "outputs": [
    {
     "name": "stdout",
     "output_type": "stream",
     "text": [
      "Devices table structure consists of 23 attributes:\n",
      "['ts', 'imei', 'mwra', 'p.android.packageinstaller', 'p.system', 'p.android.externalstorage', 'p.android.documentsui', 'p.android.gm', 'p.android.settings', 'p.android.chrome', 'p.olauncher', 'p.inputmethod.latin', 'p.android.gms', 'p.android.defcontainer', 'p.android.vending', 'p.dogalize', 'p.simulator', 'p.google', 'p.process.gapps', 'p.katana', 'p.gms.persistent', 'p.notifier', 'p.browser.provider']\n"
     ]
    }
   ],
   "source": [
    "# Basic structure of the devices data\n",
    "processes_columns = processes.columns.tolist()\n",
    "print(\"Devices table structure consists of {} attributes:\\n{}\".format(len(processes_columns), processes_columns))"
   ],
   "metadata": {
    "collapsed": false,
    "ExecuteTime": {
     "end_time": "2024-10-05T19:16:10.028269800Z",
     "start_time": "2024-10-05T19:16:09.996182900Z"
    }
   },
   "id": "2837c9057bd9205"
  },
  {
   "cell_type": "markdown",
   "source": [
    "So as we can see, the devices data consists of 23 attributes. Let’s take a look at some values from this table."
   ],
   "metadata": {
    "collapsed": false
   },
   "id": "279ea2cb0a60d15b"
  },
  {
   "cell_type": "code",
   "execution_count": 9,
   "outputs": [
    {
     "data": {
      "text/plain": "                    ts                 imei  mwra  p.android.packageinstaller  \\\n0  2018-05-05 10:00:00  3590433799317661339   1.0                     7.65899   \n1  2018-05-05 10:01:00  8630330696303481149   0.0                     7.78225   \n2  2018-05-05 10:02:00  3590433799317662295   0.0                    13.08195   \n3  2018-05-05 10:03:00  3590433799317662113   0.0                     6.11318   \n4  2018-05-05 10:04:00   359043379931766486   1.0                     8.46230   \n\n   p.system  p.android.externalstorage  p.android.documentsui  p.android.gm  \\\n0   6.85726                    9.87991               12.31537       9.41551   \n1   6.94608                   12.03426               13.36483       9.93635   \n2   9.42838                    9.35317                5.99089      11.56038   \n3  12.85907                   13.96686                5.57127       8.51068   \n4   9.76227                   10.11992               11.76912      14.38693   \n\n   p.android.settings  p.android.chrome  ...  p.android.defcontainer  \\\n0            14.14158          14.95030  ...                15.25137   \n1            17.04880          11.41472  ...                90.31625   \n2             8.67312          10.31768  ...                29.21294   \n3            12.03603          10.38561  ...                16.43758   \n4             9.72909          14.07713  ...                67.16809   \n\n   p.android.vending  p.dogalize  p.simulator  p.google  p.process.gapps  \\\n0           54.32321     9.63600     26.84388   6.42931         50.30244   \n1            7.19772    31.04868     59.75936  79.85170          8.55948   \n2            8.95161    99.91985     72.63133  20.38987         14.14359   \n3           51.51451    19.79541      4.10968  18.21893         99.73817   \n4           98.67994    63.00890     47.67131  40.63608         40.64012   \n\n   p.katana  p.gms.persistent  p.notifier  p.browser.provider  \n0  52.99019          60.25187    90.95235            65.72191  \n1  40.16116          59.95032    69.05667            76.12164  \n2  78.97842           0.00000    23.10094            66.35349  \n3  91.18229          56.17150    96.14354            58.44962  \n4  75.52116          48.58727    55.22866            98.07054  \n\n[5 rows x 23 columns]",
      "text/html": "<div>\n<style scoped>\n    .dataframe tbody tr th:only-of-type {\n        vertical-align: middle;\n    }\n\n    .dataframe tbody tr th {\n        vertical-align: top;\n    }\n\n    .dataframe thead th {\n        text-align: right;\n    }\n</style>\n<table border=\"1\" class=\"dataframe\">\n  <thead>\n    <tr style=\"text-align: right;\">\n      <th></th>\n      <th>ts</th>\n      <th>imei</th>\n      <th>mwra</th>\n      <th>p.android.packageinstaller</th>\n      <th>p.system</th>\n      <th>p.android.externalstorage</th>\n      <th>p.android.documentsui</th>\n      <th>p.android.gm</th>\n      <th>p.android.settings</th>\n      <th>p.android.chrome</th>\n      <th>...</th>\n      <th>p.android.defcontainer</th>\n      <th>p.android.vending</th>\n      <th>p.dogalize</th>\n      <th>p.simulator</th>\n      <th>p.google</th>\n      <th>p.process.gapps</th>\n      <th>p.katana</th>\n      <th>p.gms.persistent</th>\n      <th>p.notifier</th>\n      <th>p.browser.provider</th>\n    </tr>\n  </thead>\n  <tbody>\n    <tr>\n      <th>0</th>\n      <td>2018-05-05 10:00:00</td>\n      <td>3590433799317661339</td>\n      <td>1.0</td>\n      <td>7.65899</td>\n      <td>6.85726</td>\n      <td>9.87991</td>\n      <td>12.31537</td>\n      <td>9.41551</td>\n      <td>14.14158</td>\n      <td>14.95030</td>\n      <td>...</td>\n      <td>15.25137</td>\n      <td>54.32321</td>\n      <td>9.63600</td>\n      <td>26.84388</td>\n      <td>6.42931</td>\n      <td>50.30244</td>\n      <td>52.99019</td>\n      <td>60.25187</td>\n      <td>90.95235</td>\n      <td>65.72191</td>\n    </tr>\n    <tr>\n      <th>1</th>\n      <td>2018-05-05 10:01:00</td>\n      <td>8630330696303481149</td>\n      <td>0.0</td>\n      <td>7.78225</td>\n      <td>6.94608</td>\n      <td>12.03426</td>\n      <td>13.36483</td>\n      <td>9.93635</td>\n      <td>17.04880</td>\n      <td>11.41472</td>\n      <td>...</td>\n      <td>90.31625</td>\n      <td>7.19772</td>\n      <td>31.04868</td>\n      <td>59.75936</td>\n      <td>79.85170</td>\n      <td>8.55948</td>\n      <td>40.16116</td>\n      <td>59.95032</td>\n      <td>69.05667</td>\n      <td>76.12164</td>\n    </tr>\n    <tr>\n      <th>2</th>\n      <td>2018-05-05 10:02:00</td>\n      <td>3590433799317662295</td>\n      <td>0.0</td>\n      <td>13.08195</td>\n      <td>9.42838</td>\n      <td>9.35317</td>\n      <td>5.99089</td>\n      <td>11.56038</td>\n      <td>8.67312</td>\n      <td>10.31768</td>\n      <td>...</td>\n      <td>29.21294</td>\n      <td>8.95161</td>\n      <td>99.91985</td>\n      <td>72.63133</td>\n      <td>20.38987</td>\n      <td>14.14359</td>\n      <td>78.97842</td>\n      <td>0.00000</td>\n      <td>23.10094</td>\n      <td>66.35349</td>\n    </tr>\n    <tr>\n      <th>3</th>\n      <td>2018-05-05 10:03:00</td>\n      <td>3590433799317662113</td>\n      <td>0.0</td>\n      <td>6.11318</td>\n      <td>12.85907</td>\n      <td>13.96686</td>\n      <td>5.57127</td>\n      <td>8.51068</td>\n      <td>12.03603</td>\n      <td>10.38561</td>\n      <td>...</td>\n      <td>16.43758</td>\n      <td>51.51451</td>\n      <td>19.79541</td>\n      <td>4.10968</td>\n      <td>18.21893</td>\n      <td>99.73817</td>\n      <td>91.18229</td>\n      <td>56.17150</td>\n      <td>96.14354</td>\n      <td>58.44962</td>\n    </tr>\n    <tr>\n      <th>4</th>\n      <td>2018-05-05 10:04:00</td>\n      <td>359043379931766486</td>\n      <td>1.0</td>\n      <td>8.46230</td>\n      <td>9.76227</td>\n      <td>10.11992</td>\n      <td>11.76912</td>\n      <td>14.38693</td>\n      <td>9.72909</td>\n      <td>14.07713</td>\n      <td>...</td>\n      <td>67.16809</td>\n      <td>98.67994</td>\n      <td>63.00890</td>\n      <td>47.67131</td>\n      <td>40.63608</td>\n      <td>40.64012</td>\n      <td>75.52116</td>\n      <td>48.58727</td>\n      <td>55.22866</td>\n      <td>98.07054</td>\n    </tr>\n  </tbody>\n</table>\n<p>5 rows × 23 columns</p>\n</div>"
     },
     "execution_count": 9,
     "metadata": {},
     "output_type": "execute_result"
    }
   ],
   "source": [
    "# Quick look at the connections data\n",
    "processes.head()"
   ],
   "metadata": {
    "collapsed": false,
    "ExecuteTime": {
     "end_time": "2024-10-05T19:16:10.028269800Z",
     "start_time": "2024-10-05T19:16:10.004450900Z"
    }
   },
   "id": "126ebc3b9085bd4b"
  },
  {
   "cell_type": "markdown",
   "source": [
    "After looking at the values, we can assume that the devices data contains the next information:\n",
    "- **ts**: Timestamp in the format YYYY-MM-DD HH:MM:SS, which indicates when the recording was made.\n",
    "- **imei**: A unique identification number of a mobile device (International Mobile Equipment Identity).\n",
    "- **mrva**: A dependent variable indicating malware-related activity. A value of 1.0 indicates the presence of malware-related activity, and 0.0 indicates the absence of such activity.\n",
    "- **other attributes**: These columns are likely to contain numerical data representing the activity or load caused by various processes and applications on the mobile device. The values may reflect characteristics such as the resources consumed by the process, such as the amount of memory or CPU time."
   ],
   "metadata": {
    "collapsed": false
   },
   "id": "a218ceb55273e8b1"
  },
  {
   "cell_type": "code",
   "execution_count": 9,
   "outputs": [],
   "source": [],
   "metadata": {
    "collapsed": false,
    "ExecuteTime": {
     "end_time": "2024-10-05T19:16:10.028269800Z",
     "start_time": "2024-10-05T19:16:10.023315200Z"
    }
   },
   "id": "b44c42cafd9676ca"
  }
 ],
 "metadata": {
  "kernelspec": {
   "display_name": "Python 3",
   "language": "python",
   "name": "python3"
  },
  "language_info": {
   "codemirror_mode": {
    "name": "ipython",
    "version": 2
   },
   "file_extension": ".py",
   "mimetype": "text/x-python",
   "name": "python",
   "nbconvert_exporter": "python",
   "pygments_lexer": "ipython2",
   "version": "2.7.6"
  }
 },
 "nbformat": 4,
 "nbformat_minor": 5
}
